{
 "cells": [
  {
   "cell_type": "code",
   "execution_count": 6,
   "metadata": {},
   "outputs": [],
   "source": [
    "import os\n",
    "import json\n",
    "from glob import glob\n",
    "from pathlib import Path\n",
    "from PIL import Image, ImageDraw"
   ]
  },
  {
   "cell_type": "markdown",
   "metadata": {},
   "source": [
    "### Load json file"
   ]
  },
  {
   "cell_type": "code",
   "execution_count": 7,
   "metadata": {},
   "outputs": [],
   "source": [
    "def read_json(filename: str):\n",
    "    with Path(filename).open(encoding='utf8') as handle:\n",
    "        ann = json.load(handle)\n",
    "    return ann\n",
    "\n",
    "\n",
    "nation_dict = {\n",
    "    'vi': 'vietnamese_receipt',\n",
    "    'th': 'thai_receipt',\n",
    "    'zh': 'chinese_receipt',\n",
    "    'ja': 'japanese_receipt',\n",
    "}"
   ]
  },
  {
   "cell_type": "markdown",
   "metadata": {},
   "source": [
    "### Define function"
   ]
  },
  {
   "cell_type": "code",
   "execution_count": 8,
   "metadata": {},
   "outputs": [],
   "source": [
    "def save_vis_to_img(save_dir: str | os.PathLike, inference_dir: str | os.PathLike = 'output.csv') -> None:\n",
    "    if not os.path.exists(save_dir):\n",
    "        os.makedirs(save_dir, exist_ok=True) \n",
    "    data = read_json(inference_dir)\n",
    "    for im, points in data['images'].items():\n",
    "        # change to 'train' for train dataset \n",
    "        im_path = 'code' /Path('data') / nation_dict[im.split('.')[1]] / 'img' / 'train' / im\n",
    "        img = Image.open(im_path).convert(\"RGB\")\n",
    "        draw = ImageDraw.Draw(img)\n",
    "        for obj_k, obj_v in points['words'].items():\n",
    "            # bbox points\n",
    "            pts = [(int(p[0]), int(p[1])) for p in obj_v['points']]\n",
    "            pt1 = sorted(pts, key=lambda x: (x[1], x[0]))[0]\n",
    "\n",
    "            draw.polygon(pts, outline=(255, 0, 0))                \n",
    "            draw.text(\n",
    "                (pt1[0]-3, pt1[1]-12),\n",
    "                obj_k,\n",
    "                fill=(0, 0, 0)\n",
    "            )\n",
    "        img.save(os.path.join(save_dir, im))\n",
    "    print(f\"{nation_dict[im.split('.')[1]]} images visualization folder: {save_dir}\")"
   ]
  },
  {
   "cell_type": "markdown",
   "metadata": {},
   "source": [
    "### Run the function\n",
    "정의한 함수를 실행시킴으로써 bounding box가 그려진 이미지 저장"
   ]
  },
  {
   "cell_type": "code",
   "execution_count": 9,
   "metadata": {},
   "outputs": [
    {
     "name": "stdout",
     "output_type": "stream",
     "text": [
      "vietnamese_receipt images visualization folder: /data/ephemeral/home/level2-cv-datacentric-cv-12/code/data/vietnamese_receipt/visualization\n",
      "thai_receipt images visualization folder: /data/ephemeral/home/level2-cv-datacentric-cv-12/code/data/thai_receipt/visualization\n",
      "chinese_receipt images visualization folder: /data/ephemeral/home/level2-cv-datacentric-cv-12/code/data/chinese_receipt/visualization\n",
      "japanese_receipt images visualization folder: /data/ephemeral/home/level2-cv-datacentric-cv-12/code/data/japanese_receipt/visualization\n"
     ]
    }
   ],
   "source": [
    "for nation in nation_dict.values():\n",
    "    save_dir = f\"/data/ephemeral/home/level2-cv-datacentric-cv-12/code/data/{nation}/visualization\"\n",
    "    inference_dir = f\"/data/ephemeral/home/level2-cv-datacentric-cv-12/code/data/{nation}/ufo/train.json\"\n",
    "\n",
    "    save_vis_to_img(save_dir, inference_dir)"
   ]
  },
  {
   "cell_type": "code",
   "execution_count": null,
   "metadata": {},
   "outputs": [],
   "source": []
  }
 ],
 "metadata": {
  "kernelspec": {
   "display_name": "base",
   "language": "python",
   "name": "python3"
  },
  "language_info": {
   "codemirror_mode": {
    "name": "ipython",
    "version": 3
   },
   "file_extension": ".py",
   "mimetype": "text/x-python",
   "name": "python",
   "nbconvert_exporter": "python",
   "pygments_lexer": "ipython3",
   "version": "3.10.13"
  }
 },
 "nbformat": 4,
 "nbformat_minor": 2
}

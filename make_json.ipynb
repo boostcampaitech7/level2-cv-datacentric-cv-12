{
 "cells": [
  {
   "cell_type": "markdown",
   "metadata": {},
   "source": [
    "# json에서 \"\" 로 단어가 아닌 점선을 박스로 치는 경우를 아예 제거 시켜버린다"
   ]
  },
  {
   "cell_type": "code",
   "execution_count": 3,
   "metadata": {},
   "outputs": [
    {
     "name": "stdout",
     "output_type": "stream",
     "text": [
      "Filtered JSON saved to /data/ephemeral/home/JSM/level2-cv-datacentric-cv-12/code/data/vietnamese_receipt/ufo/train_remove.json\n"
     ]
    }
   ],
   "source": [
    "import json\n",
    "import os\n",
    "\n",
    "# 기존 JSON 파일 경로와 새로운 JSON 파일 경로 설정\n",
    "input_json_path = '/data/ephemeral/home/JSM/level2-cv-datacentric-cv-12/code/data/vietnamese_receipt/ufo/train.json'\n",
    "output_json_path = '/data/ephemeral/home/JSM/level2-cv-datacentric-cv-12/code/data/vietnamese_receipt/ufo/train_remove.json'\n",
    "\n",
    "# JSON 파일 로드\n",
    "with open(input_json_path, 'r') as f:\n",
    "    data = json.load(f)\n",
    "\n",
    "# \"transcription\"이 빈 문자열인 항목을 제거\n",
    "filtered_data = {\"images\": {}}\n",
    "for image_name, image_data in data[\"images\"].items():\n",
    "    filtered_words = {}\n",
    "    for word_id, word_info in image_data[\"words\"].items():\n",
    "        if word_info[\"transcription\"]:  # transcription이 빈 문자열이 아닌 경우에만 추가\n",
    "            filtered_words[word_id] = word_info\n",
    "    \n",
    "    # \"words\"가 빈 경우는 제외하지 않고 추가\n",
    "    filtered_data[\"images\"][image_name] = {\n",
    "        \"paragraphs\": image_data[\"paragraphs\"],\n",
    "        \"words\": filtered_words\n",
    "    }\n",
    "\n",
    "# 새로운 JSON 파일로 저장\n",
    "with open(output_json_path, 'w') as f:\n",
    "    json.dump(filtered_data, f, ensure_ascii=False, indent=4)\n",
    "\n",
    "print(f\"Filtered JSON saved to {output_json_path}\")"
   ]
  },
  {
   "cell_type": "code",
   "execution_count": 1,
   "metadata": {},
   "outputs": [
    {
     "name": "stderr",
     "output_type": "stream",
     "text": [
      "\u001b[34m\u001b[1mwandb\u001b[0m: Using wandb-core as the SDK backend. Please refer to https://wandb.me/wandb-core for more information.\n",
      "\u001b[34m\u001b[1mwandb\u001b[0m: W&B API key is configured. Use \u001b[1m`wandb login --relogin`\u001b[0m to force relogin\n"
     ]
    },
    {
     "data": {
      "text/html": [
       "Tracking run with wandb version 0.18.5"
      ],
      "text/plain": [
       "<IPython.core.display.HTML object>"
      ]
     },
     "metadata": {},
     "output_type": "display_data"
    },
    {
     "data": {
      "text/html": [
       "Run data is saved locally in <code>/data/ephemeral/home/JSM/level2-cv-datacentric-cv-12/wandb/run-20241104_000648-vvpldh05</code>"
      ],
      "text/plain": [
       "<IPython.core.display.HTML object>"
      ]
     },
     "metadata": {},
     "output_type": "display_data"
    },
    {
     "data": {
      "text/html": [
       "Syncing run <strong><a href='https://wandb.ai/yujihwan-yonsei-university/level2-cv-datacentric-cv-12/runs/vvpldh05' target=\"_blank\">robust-surf-3</a></strong> to <a href='https://wandb.ai/yujihwan-yonsei-university/level2-cv-datacentric-cv-12' target=\"_blank\">Weights & Biases</a> (<a href='https://wandb.me/run' target=\"_blank\">docs</a>)<br/>"
      ],
      "text/plain": [
       "<IPython.core.display.HTML object>"
      ]
     },
     "metadata": {},
     "output_type": "display_data"
    },
    {
     "data": {
      "text/html": [
       " View project at <a href='https://wandb.ai/yujihwan-yonsei-university/level2-cv-datacentric-cv-12' target=\"_blank\">https://wandb.ai/yujihwan-yonsei-university/level2-cv-datacentric-cv-12</a>"
      ],
      "text/plain": [
       "<IPython.core.display.HTML object>"
      ]
     },
     "metadata": {},
     "output_type": "display_data"
    },
    {
     "data": {
      "text/html": [
       " View run at <a href='https://wandb.ai/yujihwan-yonsei-university/level2-cv-datacentric-cv-12/runs/vvpldh05' target=\"_blank\">https://wandb.ai/yujihwan-yonsei-university/level2-cv-datacentric-cv-12/runs/vvpldh05</a>"
      ],
      "text/plain": [
       "<IPython.core.display.HTML object>"
      ]
     },
     "metadata": {},
     "output_type": "display_data"
    },
    {
     "name": "stderr",
     "output_type": "stream",
     "text": [
      "\u001b[34m\u001b[1mwandb\u001b[0m: Downloading large artifact model-checkpoint-epoch-105:v0, 57.71MB. 1 files... \n",
      "\u001b[34m\u001b[1mwandb\u001b[0m:   1 of 1 files downloaded.  \n",
      "Done. 0:0:0.4\n"
     ]
    }
   ],
   "source": [
    "import wandb\n",
    "run = wandb.init()\n",
    "artifact = run.use_artifact('yujihwan-yonsei-university/JSM_grayscale/model-checkpoint-epoch-105:v0', type='model')\n",
    "artifact_dir = artifact.download()"
   ]
  },
  {
   "cell_type": "code",
   "execution_count": null,
   "metadata": {},
   "outputs": [],
   "source": []
  }
 ],
 "metadata": {
  "kernelspec": {
   "display_name": "base",
   "language": "python",
   "name": "python3"
  },
  "language_info": {
   "codemirror_mode": {
    "name": "ipython",
    "version": 3
   },
   "file_extension": ".py",
   "mimetype": "text/x-python",
   "name": "python",
   "nbconvert_exporter": "python",
   "pygments_lexer": "ipython3",
   "version": "3.10.13"
  }
 },
 "nbformat": 4,
 "nbformat_minor": 2
}

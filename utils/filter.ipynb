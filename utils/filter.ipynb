{
 "cells": [
  {
   "cell_type": "markdown",
   "metadata": {},
   "source": [
    "### json에서 \"\" 로 단어가 아닌 점선을 박스로 치는 경우를 아예 제거 시켜버린다\n",
    "\n",
    "- 전체 bbox 중 Text bbox만 추출"
   ]
  },
  {
   "cell_type": "code",
   "execution_count": null,
   "metadata": {},
   "outputs": [],
   "source": [
    "import json\n",
    "import os\n",
    "\n",
    "# 기존 JSON 파일 경로와 새로운 JSON 파일 경로 설정\n",
    "input_json_path = 'path/to/your/train.json'\n",
    "output_json_path = 'path/to/your/train_remove.json'\n",
    "\n",
    "# JSON 파일 로드\n",
    "with open(input_json_path, 'r') as f:\n",
    "    data = json.load(f)\n",
    "\n",
    "# \"transcription\"이 빈 문자열인 항목을 제거\n",
    "filtered_data = {\"images\": {}}\n",
    "for image_name, image_data in data[\"images\"].items():\n",
    "    filtered_words = {}\n",
    "    for word_id, word_info in image_data[\"words\"].items():\n",
    "        if word_info[\"transcription\"] != \"\":  # transcription이 빈 문자열이 아닌 경우에만 추가\n",
    "            filtered_words[word_id] = word_info\n",
    "    \n",
    "    # \"words\"가 빈 경우는 제외하지 않고 추가\n",
    "    filtered_data[\"images\"][image_name] = {\n",
    "        \"paragraphs\": image_data[\"paragraphs\"],\n",
    "        \"words\": filtered_words\n",
    "    }\n",
    "\n",
    "# 새로운 JSON 파일로 저장\n",
    "with open(output_json_path, 'w') as f:\n",
    "    json.dump(filtered_data, f, ensure_ascii=False, indent=4)\n",
    "\n",
    "print(f\"Filtered JSON saved to {output_json_path}\")"
   ]
  }
 ],
 "metadata": {
  "kernelspec": {
   "display_name": "base",
   "language": "python",
   "name": "python3"
  },
  "language_info": {
   "codemirror_mode": {
    "name": "ipython",
    "version": 3
   },
   "file_extension": ".py",
   "mimetype": "text/x-python",
   "name": "python",
   "nbconvert_exporter": "python",
   "pygments_lexer": "ipython3",
   "version": "3.10.13"
  }
 },
 "nbformat": 4,
 "nbformat_minor": 2
}

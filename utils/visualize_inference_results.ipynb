{
 "cells": [
  {
   "cell_type": "markdown",
   "metadata": {},
   "source": [
    "# visualize_inference_results\n",
    "\n",
    "### 설명\n",
    "\n",
    "- 추론 결과 CSV 파일을 기반으로 테스트 이미지를 시각화하는 스크립트입니다.\n",
    "\n",
    "- CSV 파일에는 모델의 예측 결과가 포함되어 있으며, 각 이미지에 대한 예측 결과를 이미지 위에 표시합니다.\n",
    "\n",
    "- 시각화된 이미지는 모델 성능을 확인하고 분석하는 데 사용할 수 있습니다."
   ]
  },
  {
   "cell_type": "markdown",
   "metadata": {},
   "source": [
    "## Import Library"
   ]
  },
  {
   "cell_type": "code",
   "execution_count": null,
   "metadata": {},
   "outputs": [],
   "source": [
    "import os\n",
    "import json\n",
    "import cv2\n",
    "import matplotlib.pyplot as plt\n",
    "import numpy as np\n",
    "from glob import glob\n",
    "from tqdm.auto import tqdm"
   ]
  },
  {
   "cell_type": "markdown",
   "metadata": {},
   "source": [
    "## 경로 설정\n",
    "\n",
    "- 이미지 디렉토리 및 JSON 파일 경로 설정"
   ]
  },
  {
   "cell_type": "code",
   "execution_count": null,
   "metadata": {},
   "outputs": [],
   "source": [
    "# Test 이미지 또는 validation 이미지 폴더 경로\n",
    "image_dirs = [\n",
    "    'path/to/your/test_or_val_folder'\n",
    "]\n",
    "\n",
    "# 추론 결과 모델이 예측한 csv 경로\n",
    "csv_path = 'path/to/your/predict.csv'"
   ]
  },
  {
   "cell_type": "markdown",
   "metadata": {},
   "source": [
    "### 추론 결과 모델이 예측한 csv, JSON 파일 경로 로드"
   ]
  },
  {
   "cell_type": "code",
   "execution_count": null,
   "metadata": {},
   "outputs": [],
   "source": [
    "try:\n",
    "    with open(csv_path, 'r') as f:\n",
    "        data = json.load(f)\n",
    "except json.JSONDecodeError:\n",
    "    print('JSON 파일을 파싱할 수 없습니다. 파일 형식을 확인해주세요.')\n",
    "    data = {}"
   ]
  },
  {
   "cell_type": "markdown",
   "metadata": {},
   "source": [
    "### 이미지 검색 및 바운딩 박스 시각화 함수 정의"
   ]
  },
  {
   "cell_type": "code",
   "execution_count": null,
   "metadata": {},
   "outputs": [],
   "source": [
    "def find_image_path(image_fname, image_dirs):\n",
    "    for dir_path in image_dirs:\n",
    "        potential_path = os.path.join(dir_path, image_fname)\n",
    "        if os.path.exists(potential_path):\n",
    "            return potential_path\n",
    "    return None"
   ]
  },
  {
   "cell_type": "code",
   "execution_count": null,
   "metadata": {},
   "outputs": [],
   "source": [
    "def draw_bboxes_on_image(image, bboxes, color=(0, 255, 0), thickness=2):\n",
    "    for bbox in bboxes:\n",
    "        points = bbox\n",
    "        pts = np.array(points, np.int32)\n",
    "        pts = pts.reshape((-1, 1, 2))\n",
    "        cv2.polylines(image, [pts], isClosed=True, color=color, thickness=thickness)\n",
    "    return image"
   ]
  },
  {
   "cell_type": "markdown",
   "metadata": {},
   "source": [
    "## 이미지 시각화"
   ]
  },
  {
   "cell_type": "code",
   "execution_count": null,
   "metadata": {},
   "outputs": [],
   "source": [
    "images_info = data.get('images', {})\n",
    "\n",
    "pbar = tqdm(total=len(images_info), desc=\"Processing Images\")\n",
    "\n",
    "# 시각화할 이미지 수 설정\n",
    "visualize_limit = 5\n",
    "visualize_count = 0\n",
    "\n",
    "for image_fname, image_data in images_info.items():\n",
    "    image_path = find_image_path(image_fname, image_data)\n",
    "\n",
    "    if image_path is None:\n",
    "        print(f\"이미지를 찾을 수 없습니다. : {image_fname}\")\n",
    "        pbar.updata(1)\n",
    "        continue\n",
    "\n",
    "    image = cv2.imread(image_path)\n",
    "    if image is None:\n",
    "        print(f\"이미지를 열 수 없습니다. : {image_path}\")\n",
    "        pbar.update(1)\n",
    "        continue\n",
    "\n",
    "    words_info = image_data.get('words', {})\n",
    "    bboxes = [word_info['points'] for word_info in words_info.values()]\n",
    "\n",
    "    image_with_bboxes = draw_bboxes_on_image(image.copy(), bboxes, color=(0, 255, 0), thickness=2)\n",
    "\n",
    "    if visualize_count < visualize_limit:\n",
    "        image_rgb = cv2.cvtColor(image_with_bboxes, cv2.COLOR_BGR2RGB)\n",
    "        plt.figure(figsize=(10, 10))\n",
    "        plt.imshow(image_rgb)\n",
    "        plt.title(f\"Image: {image_fname}\")\n",
    "        plt.axis('off')\n",
    "        plt.show()\n",
    "        visualize_count += 1\n",
    "    \n",
    "    pbar.update(1)\n",
    "\n",
    "pbar.close()\n",
    "print(f\"모든 이미지를 처리했습니다.\")"
   ]
  }
 ],
 "metadata": {
  "kernelspec": {
   "display_name": "base",
   "language": "python",
   "name": "python3"
  },
  "language_info": {
   "codemirror_mode": {
    "name": "ipython",
    "version": 3
   },
   "file_extension": ".py",
   "mimetype": "text/x-python",
   "name": "python",
   "nbconvert_exporter": "python",
   "pygments_lexer": "ipython3",
   "version": "3.11.8"
  }
 },
 "nbformat": 4,
 "nbformat_minor": 2
}

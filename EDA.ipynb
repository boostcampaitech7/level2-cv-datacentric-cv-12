{
 "cells": [
  {
   "cell_type": "markdown",
   "metadata": {
    "id": "tHfIkvxmnEyD"
   },
   "source": [
    "## EDA 할 내용\n",
    "- 이미지 가로, 세로 길이\n",
    "- 이미지 당 단어 개수 분포\n",
    "- 전체 태그 별 분포\n",
    "    - 언어 태그\n",
    "    - 글자 진행 방향\n",
    "    - 단어 태그\n",
    "    - 이미지 태그\n",
    "- aspect ratio (가로/세로)"
   ]
  },
  {
   "cell_type": "markdown",
   "metadata": {
    "id": "-2w2BxhWnEyH",
    "outputId": "c2ef0a41-de08-4a67-cf3a-6e6dc035982e"
   },
   "source": [
    "original code source : https://www.kaggle.com/aidapearson/eda-starter-notebook"
   ]
  },
  {
   "cell_type": "markdown",
   "metadata": {
    "id": "r8n0eyMRriRb"
   },
   "source": [
    "**< Current Package >**\n",
    "- json==2.0.9\n",
    "- pandas==2.0.3\n",
    "- seaborn==0.13.2\n",
    "- PIL.Image==9.4.0\n",
    "- numpy==1.23.5\n",
    "- pathlib==1.0.1\n",
    "- matplotlib==3.7.5"
   ]
  },
  {
   "cell_type": "code",
   "execution_count": 13,
   "metadata": {
    "id": "fwoxMwWLnEyI"
   },
   "outputs": [],
   "source": [
    "# 라이브러리 호출\n",
    "\n",
    "%matplotlib inline\n",
    "import glob\n",
    "import json\n",
    "import matplotlib.pyplot as plt\n",
    "import pandas as pd\n",
    "import seaborn as sns\n",
    "from pathlib import Path\n",
    "from PIL import Image\n",
    "from collections import Counter\n",
    "import numpy as np"
   ]
  },
  {
   "cell_type": "code",
   "execution_count": 14,
   "metadata": {
    "id": "_eCzdzcYnEyI"
   },
   "outputs": [],
   "source": [
    "from IPython.core.interactiveshell import InteractiveShell\n",
    "InteractiveShell.ast_node_interactivity = \"all\""
   ]
  },
  {
   "cell_type": "code",
   "execution_count": 15,
   "metadata": {
    "id": "JHcbJ8gpnEyI"
   },
   "outputs": [],
   "source": [
    "def read_json(filename):\n",
    "    with Path(filename).open(encoding='utf8') as handle:\n",
    "        ann = json.load(handle)\n",
    "    return ann"
   ]
  },
  {
   "cell_type": "code",
   "execution_count": null,
   "metadata": {
    "id": "5zltUmUxnEyI",
    "outputId": "60035467-0922-422e-c327-7cf3ed01ab0a"
   },
   "outputs": [],
   "source": [
    "# gt file과 raw image file path를 이용해 데이터를 불러온다.\n",
    "# train.json 파일 경로를 사용하도록 수정 필요.\n",
    "# colab을 활용할 경우 train.json 파일을 google drive에서 불러오도록 수정 필요.\n",
    "path_lists = glob.glob(f\"./data/*_receipt/ufo/train.json\")\n",
    "\n",
    "# 각 json 파일을 읽어서 하나로 합친다.\n",
    "data = {}\n",
    "data['images'] = {}\n",
    "for path in path_lists:\n",
    "    json_data = read_json(path)\n",
    "    # 각 파일에서 100개의 이미지 씩만 확인합니다.\n",
    "    images = list(json_data['images'].items())\n",
    "    data['images'].update(dict(images))\n",
    "\n",
    "print(f\"Total number of images: {len(data['images'])}\")\n"
   ]
  },
  {
   "cell_type": "code",
   "execution_count": 17,
   "metadata": {
    "id": "3YY8SzYnnEyJ"
   },
   "outputs": [],
   "source": [
    "def get_box_size(quads):\n",
    "    \"\"\" 단어 영역의 사각형 좌표가 주어졌을 때 가로, 세로길이를 계산해주는 함수.\n",
    "    Args:\n",
    "        quads: np.ndarray(n, 4, 2) n개 단어 bounding-box의 4개 점 좌표 (단위 pixel)\n",
    "    Return:\n",
    "        sizes: np.ndarray(n, 2) n개 box의 (height, width)쌍\n",
    "    \"\"\"\n",
    "    dists = []\n",
    "    for i, j in [(1, 2), (3, 0), (0, 1), (2, 3)]: # [right(height), left(height), upper(width), lower(width)] sides\n",
    "        dists.append(np.linalg.norm(quads[:, i] - quads[:, j], ord=2, axis=1))\n",
    "\n",
    "    dists = np.stack(dists, axis=-1).reshape(-1, 2, 2) # shape (n, 2, 2) heights, widths into separate dim\n",
    "    return np.rint(dists.mean(axis=-1)).astype(int)"
   ]
  },
  {
   "cell_type": "code",
   "execution_count": 18,
   "metadata": {
    "id": "XbncN2oCnEyJ"
   },
   "outputs": [],
   "source": [
    "def rectify_poly(poly, direction):\n",
    "    \"\"\"일반 polygon형태인 라벨을 크롭하고 rectify한 형태의 가로, 세로 길이를 계산해주는 함수.\n",
    "    Args:\n",
    "        poly: np.ndarray(2n+4, 2) (where n>0), 4, 6, 8\n",
    "        direction: 글자의 읽는 방향과 진행 방향의 수평(Horizontal) 혹은 수직(Vertical) 여부\n",
    "    Return:\n",
    "        rectified: np.ndarray(2, ?) rectify된 단어 bbox의 가로, 세로 길이.\n",
    "    \"\"\"\n",
    "\n",
    "    n_pts = poly.shape[0]\n",
    "    assert n_pts % 2 == 0\n",
    "    if direction not in ['Horizontal', 'Vertical', 'Irregular']:\n",
    "        return None\n",
    "    if n_pts == 4:\n",
    "        size = get_box_size(poly[None])\n",
    "        h = size[:, 0]\n",
    "        w = size[:, 1]\n",
    "        return np.stack((h,w))\n",
    "\n",
    "    def unroll(indices):\n",
    "        return list(zip(indices[:-1], indices[1:]))\n",
    "\n",
    "    # polygon하나를 인접한 사각형 여러개로 쪼갠다.\n",
    "    indices = list(range(n_pts))\n",
    "    if direction == 'Horizontal':\n",
    "        upper_pts = unroll(indices[:n_pts // 2]) # (0, 1), (1, 2), ... (4, 5)\n",
    "        lower_pts = unroll(indices[n_pts // 2:])[::-1] # (8, 9), (7, 8), ... (6, 7)\n",
    "\n",
    "        quads = np.stack([poly[[i, j, k, l]] for (i, j), (k, l) in zip(upper_pts, lower_pts)])\n",
    "    else:\n",
    "        right_pts = unroll(indices[1:n_pts // 2 + 1]) # (1, 2), (2, 3), ... (4, 5)\n",
    "        left_pts = unroll([0] + indices[:n_pts // 2:-1]) # (0, 9), (9, 8), ... (7, 6)\n",
    "\n",
    "        quads = np.stack([poly[[i, j, k, l]] for (j, k), (i, l) in zip(right_pts, left_pts)])\n",
    "\n",
    "    sizes = get_box_size(quads)\n",
    "    if direction in ['Horizontal', 'Irregular']:\n",
    "        h = sizes[:, 0].max()\n",
    "        h = np.rint(h).astype(np.int32)\n",
    "        resize_ratios = h / sizes[:, 0]\n",
    "        # widths = sizes[:, 1]\n",
    "        widths = np.rint(sizes[:, 1] * resize_ratios).astype(np.int32)\n",
    "        w = np.sum(widths)\n",
    "\n",
    "        return np.vstack((h,w))\n",
    "\n",
    "    elif direction == 'Vertical':\n",
    "        w = sizes[:, 1].max()\n",
    "        w = np.rint(w).astype(np.int32)\n",
    "        resize_ratios = w / sizes[:, 1]\n",
    "        heights = np.rint(sizes[:, 0] * resize_ratios).astype(np.int32)\n",
    "        h = np.sum(heights)\n",
    "        return np.vstack((h,w))"
   ]
  },
  {
   "cell_type": "code",
   "execution_count": null,
   "metadata": {
    "id": "e5qzWpR5nEyK"
   },
   "outputs": [],
   "source": [
    "# 데이터 구조화: pandas 구조에 맞게 데이터 정렬\n",
    "\n",
    "df = {}\n",
    "df['image'] = []\n",
    "df['word_counts'] = []\n",
    "df['image_width'] = []\n",
    "df['image_height'] = []\n",
    "df['image_tags'] = []\n",
    "# img_tags = []\n",
    "\n",
    "quads = []\n",
    "polys = []\n",
    "seq_length = []\n",
    "hor_sizes = []\n",
    "ver_sizes = []\n",
    "irr_sizes = []\n",
    "languages = []\n",
    "orientation = []\n",
    "word_height = []\n",
    "word_width = []\n",
    "bbox_size = []\n",
    "word_tags = []\n",
    "aspect_ratio = []\n",
    "ver_string = []\n",
    "\n",
    "for image_key, image_value in list(data[\"images\"].items()):\n",
    "\n",
    "    df['image'].append(image_key)\n",
    "    img_w = image_value['img_w']\n",
    "    img_h = image_value['img_h']\n",
    "    df['image_width'].append(img_w)\n",
    "    df['image_height'].append(img_h)\n",
    "    df['image_tags'].append(image_value['tags'])\n",
    "    df['image_tags']= [['None'] if v is None else v for v in df['image_tags']]\n",
    "    word_ann = image_value['words']\n",
    "    count_ill = 0\n",
    "    for word in word_ann.values():\n",
    "        if word['illegibility']== False:\n",
    "            orientation.append(word['orientation'])\n",
    "            orientation = [v for v in orientation]\n",
    "            seq_length.append(len(word['transcription']))\n",
    "            languages.append(word['language'])\n",
    "            languages = [['None'] if v is None else v for v in languages]\n",
    "            if word['tags'] != None:\n",
    "                word_tags.extend(word['tags'][:])\n",
    "            elif word['tags']== None:\n",
    "                word_tags.append('None')\n",
    "            poly = np.int32(word['points'])\n",
    "            # print(word['orientation'])\n",
    "            word_orientation = word['orientation'] if word['orientation'] == 'Vertical' else 'Horizontal'\n",
    "            size = rectify_poly(poly, word_orientation)\n",
    "            if word['orientation'] == 'Vertical':\n",
    "                ver_sizes.append(size)\n",
    "                bbox_size.append(np.sum(size[0]* size[1]))\n",
    "            else:\n",
    "                # print(word['orientation'])\n",
    "                hor_sizes.append(size)\n",
    "                bbox_size.append(np.sum(size[0]* size[1]))\n",
    "        else:\n",
    "            count_ill += 1\n",
    "    df['word_counts'].append(len(word_ann)-count_ill)\n",
    "\n",
    "hor_aspect_ratio = [hor_sizes[i][1]/hor_sizes[i][0] for i in range(len(hor_sizes))]\n",
    "ver_aspect_ratio = [ver_sizes[i][1]/ver_sizes[i][0] for i in range(len(ver_sizes))]\n",
    "\n",
    "image_df = pd.DataFrame.from_dict(df)"
   ]
  },
  {
   "cell_type": "code",
   "execution_count": null,
   "metadata": {
    "id": "Bfp0TstFu1UL",
    "outputId": "b87872c2-d0cb-445f-c1d8-d2479a5d99b0"
   },
   "outputs": [],
   "source": [
    "image_df"
   ]
  },
  {
   "cell_type": "code",
   "execution_count": null,
   "metadata": {
    "id": "6WrSJirorSnV",
    "outputId": "f71722b1-3488-4be1-97fa-1d32b5fafd04"
   },
   "outputs": [],
   "source": [
    "image_df['image_tags'] = image_df.image_tags.apply(lambda x: 'None' if len(x) == 0 else x)\n",
    "image_df"
   ]
  },
  {
   "cell_type": "code",
   "execution_count": null,
   "metadata": {
    "id": "YBOJBM5WnEyL",
    "outputId": "da326b5a-f2ad-4f6b-b844-6883f71f3e27"
   },
   "outputs": [],
   "source": [
    "image_df.describe()"
   ]
  },
  {
   "cell_type": "code",
   "execution_count": null,
   "metadata": {
    "id": "1QKkQc3crSnV",
    "outputId": "802dfe19-66d7-4d82-b125-f34a34b3a724"
   },
   "outputs": [],
   "source": [
    "image_df[['image_width','image_height']].describe()"
   ]
  },
  {
   "cell_type": "markdown",
   "metadata": {
    "id": "UzGBBtEWnEyL"
   },
   "source": [
    "### 이미지의 가로, 세로 길이"
   ]
  },
  {
   "cell_type": "code",
   "execution_count": null,
   "metadata": {
    "id": "3TsKyy_-nEyL",
    "outputId": "164531e8-d109-4b78-e749-4c9c20936cf0"
   },
   "outputs": [],
   "source": [
    "g = sns.jointplot(x = \"image_width\", y = \"image_height\", data=image_df, kind=\"kde\", space=0, color=\"r\")\n",
    "g.set_axis_labels(\"Image Width\", \"Image Height\")"
   ]
  },
  {
   "cell_type": "markdown",
   "metadata": {
    "id": "ZCGiIqnZnEyM"
   },
   "source": [
    "### 이미지 태그, 단어 태그"
   ]
  },
  {
   "cell_type": "code",
   "execution_count": null,
   "metadata": {
    "id": "j5V5w4z5nEyM"
   },
   "outputs": [],
   "source": [
    "def create_count_df(df, field, index):\n",
    "    count=df.groupby(field)[index].count().sort_values(ascending=False)\n",
    "    count_df = count.to_frame().reset_index()\n",
    "    count_df.columns = [field, field + '_count']\n",
    "    return count_df\n",
    "\n",
    "def plot_count_df(df, field, random_sample, color, rotation, xlabel, ylabel, title):\n",
    "    fig, ax = plt.subplots(figsize=(10,6))\n",
    "    if random_sample:\n",
    "        df = df.sample(n=50, random_state=1)\n",
    "    bars = ax.bar(df[field], df[field + '_count'], color=color, align='center',alpha=0.5)\n",
    "    for i, b in enumerate(bars):\n",
    "        ax.text(b.get_x()+b.get_width()*(1/2),b.get_height()+0.1, \\\n",
    "                df.iloc[i][field + '_count'],ha='center',fontsize=13)\n",
    "    ax.set_xticklabels(df[field],rotation=rotation, fontsize=13)\n",
    "    ax.set_xlabel(xlabel, fontsize=13)\n",
    "    ax.set_ylabel(ylabel, fontsize=13)\n",
    "    ax.set_title(title, fontsize=20)\n",
    "    plt.show()\n"
   ]
  },
  {
   "cell_type": "code",
   "execution_count": null,
   "metadata": {
    "id": "Ayeg4QhnnEyM",
    "outputId": "a44e541f-bd13-4e3f-f7c2-3d51593fc926"
   },
   "outputs": [],
   "source": [
    "img_tag_df = create_count_df(df=image_df, field='image_tags', index='image')\n",
    "plot_count_df(df=img_tag_df, field='image_tags', random_sample=False, color='g', rotation=0, xlabel='image tag', \\\n",
    "              ylabel='Number of image tag', title='Image Tag Distribution')"
   ]
  },
  {
   "cell_type": "code",
   "execution_count": null,
   "metadata": {
    "id": "SCWPfCOLnEyM",
    "outputId": "2ac52107-8e34-4c34-e41b-f0b1bc370dd1"
   },
   "outputs": [],
   "source": [
    "# Total word tags\n",
    "word_tags = [i for i in word_tags if i not in ['Auto','UpdatedBbox','UpdatedText','UpdatedTags']]\n",
    "word_tag_df = pd.DataFrame(word_tags, columns = ['tags'])\n",
    "word_tag_df['index'] = [i for i in range(len(word_tags))]\n",
    "word_tag_df = create_count_df(word_tag_df, field='tags',index='index')\n",
    "plot_count_df(df=word_tag_df, field='tags', random_sample=False, color='g', rotation=0, xlabel='word tags', \\\n",
    "              ylabel='Count of each word tag', title='Word tag Distribution')"
   ]
  },
  {
   "cell_type": "markdown",
   "metadata": {
    "id": "Qyh3tF1DnEyM"
   },
   "source": [
    "### 단어 당 이미지 수"
   ]
  },
  {
   "cell_type": "code",
   "execution_count": null,
   "metadata": {
    "id": "pvf9yub_nEyM"
   },
   "outputs": [],
   "source": [
    "def plot_dist(df, field, bins, color, xlabel, ylabel, title):\n",
    "    sns.set(color_codes=True)\n",
    "    fig, ax = plt.subplots(figsize=(18,6))\n",
    "    sns.distplot(df[field], bins=bins, color=color, ax=ax)\n",
    "\n",
    "    ax.set_xlabel(xlabel, fontsize=13)\n",
    "    ax.set_ylabel(ylabel, fontsize=13)\n",
    "    ax.set_title(title, fontsize=20)\n",
    "    plt.show()"
   ]
  },
  {
   "cell_type": "code",
   "execution_count": null,
   "metadata": {
    "id": "rQUHwxIenEyN",
    "outputId": "7c025601-f0d7-4f1e-b049-4b7477b79f73"
   },
   "outputs": [],
   "source": [
    "plot_dist(df=image_df, field='word_counts', bins=50, color='b', xlabel='number of words per Image', \\\n",
    "          ylabel='Frequency', title='Words per Image Distribution')"
   ]
  },
  {
   "cell_type": "code",
   "execution_count": null,
   "metadata": {
    "id": "eKMPOxFVnEyO"
   },
   "outputs": [],
   "source": [
    "word_df ={}\n",
    "word_df['index'] = [i for i in range(len(bbox_size))]\n",
    "word_df['orientation'] = orientation\n",
    "word_df['language'] = languages\n",
    "# word_df['height'] = word_height\n",
    "# word_df['width'] = word_width\n",
    "word_df['bbox_size'] = bbox_size"
   ]
  },
  {
   "cell_type": "code",
   "execution_count": null,
   "metadata": {
    "id": "2MOckinvnEyO",
    "outputId": "5017c6e0-cdd7-4515-ad4a-0147f3e47ead"
   },
   "outputs": [],
   "source": [
    "word_df = pd.DataFrame.from_dict(word_df)\n",
    "word_df"
   ]
  },
  {
   "cell_type": "code",
   "execution_count": null,
   "metadata": {
    "id": "YiWTwIiCrSnW",
    "outputId": "d30ac9ab-293e-44e9-ab28-4daa872dd8f3"
   },
   "outputs": [],
   "source": [
    "# 언어 태그를 plot 상에 간단히 나타내기 위해 전체 언어태그를 확인하고, mapping table을 만든다.\n",
    "language_list = word_df['language'].tolist()\n",
    "# flatten list\n",
    "language_list = [item for sublist in language_list for item in sublist]\n",
    "set(language_list)"
   ]
  },
  {
   "cell_type": "code",
   "execution_count": null,
   "metadata": {
    "id": "U5HI03u5rSnW",
    "outputId": "6a0c1db2-f265-41f3-c4f1-912e2ac9ee23"
   },
   "outputs": [],
   "source": [
    "lang_map = {'chinese':'zh','japanese':'ja', 'korean':'ko', 'english':'en','symbol':'sym','numeric':'num','taiwanese':'zh-tw','diacritic':'diac','circled':'circ'}\n",
    "word_df['language'] = word_df['language'].apply(lambda x: [lang_map[i] if i in lang_map.keys() else i for i in x])\n",
    "word_df['language'] = word_df['language'].apply(lambda x: list(set(x)))\n",
    "word_df"
   ]
  },
  {
   "cell_type": "code",
   "execution_count": null,
   "metadata": {
    "id": "HPeajWa-rSnW"
   },
   "outputs": [],
   "source": [
    "word_df['orientation'] = word_df['orientation'].apply(lambda x: 'Horizontal' if x == '' else x)"
   ]
  },
  {
   "cell_type": "code",
   "execution_count": null,
   "metadata": {
    "id": "lFN9wqWtnEyO",
    "outputId": "607c75e1-786e-4711-e3c3-54d8c932c5b0"
   },
   "outputs": [],
   "source": [
    "word_df['language'] = word_df['language'].apply(lambda x: ','.join(map(str, x)))\n",
    "word_df"
   ]
  },
  {
   "cell_type": "markdown",
   "metadata": {
    "id": "BnDSAsvhrSnW"
   },
   "source": [
    "### 언어 태그가 의미하는 바를 확인하기 위해 이미지를 확인합니다."
   ]
  },
  {
   "cell_type": "code",
   "execution_count": null,
   "metadata": {
    "id": "Om1WofIirSnW",
    "outputId": "99a42213-4c75-4fe8-9bad-d7d31c7558ee"
   },
   "outputs": [],
   "source": [
    "# 이미지 내부의 bbox를 확인합니다.\n",
    "def plot_bbox_language(image_key, lang, num_lang):\n",
    "    image = Image.open(f'./data/{lang}_receipt/img/train/{image_key}')\n",
    "    fig, ax = plt.subplots(figsize=(10,10))\n",
    "    ax.imshow(image)\n",
    "    word_ann = data[\"images\"][image_key]['words']\n",
    "    for word in word_ann.values():\n",
    "        if word['illegibility']== False:\n",
    "            if word['language'] != None and len(word['language'])> num_lang:\n",
    "                poly = np.int32(word['points'])\n",
    "                poly = poly.reshape(-1, 2)\n",
    "                ax.plot(np.append(poly[:, 0], poly[0, 0]), np.append(poly[:, 1], poly[0, 1]), color='red', linewidth=1)\n",
    "                poly_center = np.mean(poly, axis=0)\n",
    "                ax.text(poly_center[0], poly_center[1] - 10, word['language'], fontsize=8, color='red')\n",
    "    plt.show()\n",
    "\n",
    "plot_bbox_language('extractor.zh.in_house.appen2_001021_page0001.jpg', 'chinese',3)"
   ]
  },
  {
   "cell_type": "code",
   "execution_count": null,
   "metadata": {
    "id": "2_xb8KmQrSnW",
    "outputId": "932cb3d8-b22c-49e7-d350-f9edff37f6d4"
   },
   "outputs": [],
   "source": [
    "plot_bbox_language('extractor.vi.in_house.appen_000001_page0001.jpg', 'vietnamese',2)"
   ]
  },
  {
   "cell_type": "markdown",
   "metadata": {
    "id": "QBGslS9lnEyO"
   },
   "source": [
    "### 글자 진행 방향"
   ]
  },
  {
   "cell_type": "code",
   "execution_count": null,
   "metadata": {
    "id": "lrl-zCh1nEyO",
    "outputId": "22863978-1169-403c-837f-6cc22b03a284"
   },
   "outputs": [],
   "source": [
    "orientation = create_count_df(df=word_df, field='orientation', index='index')\n",
    "plot_count_df(df=orientation, field='orientation', random_sample=False, color='g', rotation=0, xlabel='orientation', \\\n",
    "              ylabel='Count of each orientation', title='Orientation Distribution')"
   ]
  },
  {
   "cell_type": "markdown",
   "metadata": {
    "id": "fPvOZpzynEyO"
   },
   "source": [
    "### 언어"
   ]
  },
  {
   "cell_type": "code",
   "execution_count": null,
   "metadata": {
    "id": "hjjSSxV9nEyO",
    "outputId": "34f6fa7e-245d-49fa-9d64-717598e57ed6"
   },
   "outputs": [],
   "source": [
    "lang = create_count_df(df=word_df, field='language', index='index')\n",
    "plot_count_df(df=lang, field='language', random_sample=False, color='g', rotation=0, xlabel='language', \\\n",
    "              ylabel='Count of each language', title='Language Distribution')"
   ]
  },
  {
   "cell_type": "code",
   "execution_count": null,
   "metadata": {
    "id": "oxqqtJZlrSnW"
   },
   "outputs": [],
   "source": [
    "# 가장 상위 10개의 언어 라벨 결과를 살펴본다\n",
    "def plot_count_df_top10(df, field, random_sample, color, rotation, xlabel, ylabel, title):\n",
    "    fig, ax = plt.subplots(figsize=(10,6))\n",
    "    if random_sample:\n",
    "        df = df.sample(n=50, random_state=1)\n",
    "    df = df.nlargest(10, field + '_count')  # Select top 10 frequent labels\n",
    "    bars = ax.bar(df[field], df[field + '_count'], color=color, align='center',alpha=0.5)\n",
    "    for i, b in enumerate(bars):\n",
    "        ax.text(b.get_x()+b.get_width()*(1/2),b.get_height()+0.1, \\\n",
    "                df.iloc[i][field + '_count'],ha='center',fontsize=13)\n",
    "    ax.set_xticklabels(df[field],rotation=rotation, fontsize=13)\n",
    "    ax.set_xlabel(xlabel, fontsize=13)\n",
    "    ax.set_ylabel(ylabel, fontsize=13)\n",
    "    ax.set_title(title, fontsize=20)\n",
    "    plt.show()"
   ]
  },
  {
   "cell_type": "code",
   "execution_count": null,
   "metadata": {
    "id": "qckMTFzjrSnW",
    "outputId": "5c99d02a-a472-47f8-cfcb-fbe2ab65a0af"
   },
   "outputs": [],
   "source": [
    "# None은 다른 언어나 특수 기호를 의미\n",
    "lang = create_count_df(df=word_df, field='language', index='index')\n",
    "plot_count_df_top10(df=lang, field='language', random_sample=False, color='g', rotation=0, xlabel='language', \\\n",
    "              ylabel='Count of each language', title='Language Distribution')"
   ]
  },
  {
   "cell_type": "markdown",
   "metadata": {
    "id": "qVzvDRUSnEyO"
   },
   "source": [
    "### Aspect Ratio"
   ]
  },
  {
   "cell_type": "code",
   "execution_count": null,
   "metadata": {
    "id": "wGXgMiSXnEyO"
   },
   "outputs": [],
   "source": [
    "def plot_dist_list(target_list, bins, color, xlabel, ylabel, title):\n",
    "    sns.set(color_codes=True)\n",
    "    fig, ax = plt.subplots(figsize=(18,6))\n",
    "    sns.distplot(target_list, bins=bins, color=color, ax=ax)\n",
    "    ax.set_xlabel(xlabel, fontsize=13)\n",
    "    ax.set_ylabel(ylabel, fontsize=13)\n",
    "    ax.set_title(title, fontsize=20)\n",
    "    plt.show()"
   ]
  },
  {
   "cell_type": "code",
   "execution_count": null,
   "metadata": {
    "id": "bZNDMV-7nEyO",
    "outputId": "d1a5dd17-e807-42da-817b-17c3d3cbdffa"
   },
   "outputs": [],
   "source": [
    "# horizontal 단어들의 aspect ratio\n",
    "# 한 두글자짜리 단어나 숫자의 경우 aspect ratio가 1미만인 경우가 있다\n",
    "plot_dist_list(hor_aspect_ratio, bins=10, color='r', xlabel='Aspect Ratio (BBOX Width / BBOX Height)', \\\n",
    "          ylabel='Frequency', title='Aspect Ratio Distribution (Horizontal words)')"
   ]
  },
  {
   "cell_type": "code",
   "execution_count": null,
   "metadata": {
    "id": "diEGh80-nEyO",
    "outputId": "dbe56697-3761-45cb-9b2c-c36842aad826"
   },
   "outputs": [],
   "source": [
    "# 세로 방향 단어들의 aspect ration\n",
    "plot_dist_list(ver_aspect_ratio, bins=20, color='r', xlabel='Aspect Ratio (BBOX Width / BBOX Height)', \\\n",
    "          ylabel='Frequency', title='Aspect Ratio Distribution (Veritcal words)')"
   ]
  },
  {
   "cell_type": "markdown",
   "metadata": {
    "id": "GDa17Iv1nEyP"
   },
   "source": [
    "### BBOX 크기"
   ]
  },
  {
   "cell_type": "code",
   "execution_count": null,
   "metadata": {
    "id": "_bK35BzynEyP",
    "outputId": "1e963a1f-fee9-41b6-b0bf-f30a824f386d"
   },
   "outputs": [],
   "source": [
    "word_df['bbox_size'].describe()"
   ]
  },
  {
   "cell_type": "code",
   "execution_count": null,
   "metadata": {
    "id": "mUL63E2OnEyP",
    "outputId": "98846dd6-b9c4-46c4-dd78-0a6eaaebb9d1"
   },
   "outputs": [],
   "source": [
    "# bbox size 분포\n",
    "plot_dist(df=word_df, field='bbox_size', bins=50, color='r', xlabel='BBOX size', \\\n",
    "          ylabel='Frequency', title='BBOX size')"
   ]
  },
  {
   "cell_type": "markdown",
   "metadata": {
    "id": "MUg-2t1JnK_H"
   },
   "source": [
    "### **콘텐츠 라이선스**\n",
    "\n",
    "<font color='red'><b>**WARNING**</b></font> : **본 교육 콘텐츠의 지식재산권은 재단법인 네이버커넥트에 귀속됩니다. 본 콘텐츠를 어떠한 경로로든 외부로 유출 및 수정하는 행위를 엄격히 금합니다.** 다만, 비영리적 교육 및 연구활동에 한정되어 사용할 수 있으나 재단의 허락을 받아야 합니다. 이를 위반하는 경우, 관련 법률에 따라 책임을 질 수 있습니다.\n",
    "\n"
   ]
  }
 ],
 "metadata": {
  "accelerator": "GPU",
  "colab": {
   "gpuType": "T4",
   "provenance": [
    {
     "file_id": "17Z_6f8RN85w3S0BQmXNA8vrwXb-GnpOo",
     "timestamp": 1730179440549
    }
   ]
  },
  "kernelspec": {
   "display_name": "base",
   "language": "python",
   "name": "python3"
  },
  "language_info": {
   "codemirror_mode": {
    "name": "ipython",
    "version": 3
   },
   "file_extension": ".py",
   "mimetype": "text/x-python",
   "name": "python",
   "nbconvert_exporter": "python",
   "pygments_lexer": "ipython3",
   "version": "3.10.13"
  }
 },
 "nbformat": 4,
 "nbformat_minor": 0
}

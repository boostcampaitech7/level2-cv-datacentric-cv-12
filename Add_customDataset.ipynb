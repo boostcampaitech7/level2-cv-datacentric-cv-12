{
 "cells": [
  {
   "cell_type": "markdown",
   "metadata": {},
   "source": [
    "# 우리가 다운 받은 이미지들의 이름을 우리가 원하는 형식으로 변경합니다"
   ]
  },
  {
   "cell_type": "code",
   "execution_count": 9,
   "metadata": {},
   "outputs": [
    {
     "name": "stdout",
     "output_type": "stream",
     "text": [
      "09-03-19-receipt.jpg -> extractor.custom_vi.in_house.appen_000001_page0001.jpg\n",
      "0AWSJD80F408FAA638B508lv.jpg -> extractor.custom_vi.in_house.appen_000002_page0001.jpg\n",
      "0D3F76F745216DD05031B2sx.jpg -> extractor.custom_vi.in_house.appen_000003_page0001.jpg\n",
      "1-Figure1-1.png -> extractor.custom_vi.in_house.appen_000004_page0001.jpg\n",
      "29301400717_1df61876ca_z.jpg -> extractor.custom_vi.in_house.appen_000006_page0001.jpg\n",
      "43372305725_ec95601bab_b.jpg -> extractor.custom_vi.in_house.appen_000007_page0001.jpg\n",
      "43372307115_582077fff2_b.jpg -> extractor.custom_vi.in_house.appen_000008_page0001.jpg\n",
      "75006-Thuy-Long.jpg -> extractor.custom_vi.in_house.appen_000009_page0001.jpg\n",
      "IMG_3344-scaled.jpg -> extractor.custom_vi.in_house.appen_000010_page0001.jpg\n",
      "das-konto.jpg -> extractor.custom_vi.in_house.appen_000012_page0001.jpg\n",
      "fantastic-vietnamese.jpg -> extractor.custom_vi.in_house.appen_000013_page0001.jpg\n",
      "images (1).jpeg -> extractor.custom_vi.in_house.appen_000014_page0001.jpg\n",
      "images (2).jpeg -> extractor.custom_vi.in_house.appen_000015_page0001.jpg\n",
      "images (3).jpeg -> extractor.custom_vi.in_house.appen_000016_page0001.jpg\n",
      "images.jpeg -> extractor.custom_vi.in_house.appen_000017_page0001.jpg\n",
      "photo0jpg.jpg -> extractor.custom_vi.in_house.appen_000018_page0001.jpg\n",
      "receipt-from-sen-viet.jpg -> extractor.custom_vi.in_house.appen_000019_page0001.jpg\n",
      "the-bill.jpg -> extractor.custom_vi.in_house.appen_000020_page0001.jpg\n",
      "the-receipt.jpg -> extractor.custom_vi.in_house.appen_000021_page0001.jpg\n",
      "다운로드 (1).jpeg -> extractor.custom_vi.in_house.appen_000022_page0001.jpg\n",
      "다운로드 (2).jpeg -> extractor.custom_vi.in_house.appen_000023_page0001.jpg\n",
      "다운로드 (3).jpeg -> extractor.custom_vi.in_house.appen_000024_page0001.jpg\n",
      "다운로드 (4).jpeg -> extractor.custom_vi.in_house.appen_000025_page0001.jpg\n",
      "다운로드 (5).jpeg -> extractor.custom_vi.in_house.appen_000026_page0001.jpg\n",
      "다운로드 (6).jpeg -> extractor.custom_vi.in_house.appen_000027_page0001.jpg\n",
      "다운로드 (7).jpeg -> extractor.custom_vi.in_house.appen_000028_page0001.jpg\n",
      "다운로드 (8).jpeg -> extractor.custom_vi.in_house.appen_000029_page0001.jpg\n",
      "다운로드 (9).jpeg -> extractor.custom_vi.in_house.appen_000030_page0001.jpg\n",
      "다운로드.jpeg -> extractor.custom_vi.in_house.appen_000031_page0001.jpg\n",
      "파일 이름 변경 완료\n"
     ]
    }
   ],
   "source": [
    "import os\n",
    "\n",
    "# 이미지가 저장된 폴더 경로\n",
    "images_dir = '/data/ephemeral/home/level2-cv-datacentric-cv-12/code/data/vietnamese2_receipt/img/train'  # 실제 이미지 폴더 경로로 변경하세요\n",
    "\n",
    "# 파일 이름 변경 시작\n",
    "for idx, filename in enumerate(sorted(os.listdir(images_dir)), start=1):\n",
    "    # 이미지 파일만 대상으로 하기 위해 확장자 검사\n",
    "    if filename.endswith(('.jpg', '.jpeg', '.png')):\n",
    "        # 새 파일 이름 생성 (순서대로 번호 지정)\n",
    "        new_filename = f\"extractor.custom_vi.in_house.appen_{idx:06d}_page0001.jpg\"  # .jpg 확장자에 맞게 설정\n",
    "\n",
    "        # 현재 파일 경로와 새 파일 경로\n",
    "        src = os.path.join(images_dir, filename)\n",
    "        dst = os.path.join(images_dir, new_filename)\n",
    "\n",
    "        # 파일 이름 변경\n",
    "        os.rename(src, dst)\n",
    "        print(f\"{filename} -> {new_filename}\")  # 변경 내역 출력\n",
    "\n",
    "print(\"파일 이름 변경 완료\")"
   ]
  },
  {
   "cell_type": "markdown",
   "metadata": {},
   "source": [
    "# Easy OCR을 활용하여 임의의 사진에 Annotation을 적용하게 됩니다.\n",
    "# 여기서 이미지가 너무 작거나 텍스트가 없는 경우 이를 제외하기 위한 코드 ( 박스가 없으면 train에 사용하지 않는다 )"
   ]
  },
  {
   "cell_type": "code",
   "execution_count": 10,
   "metadata": {},
   "outputs": [
    {
     "name": "stderr",
     "output_type": "stream",
     "text": [
      "Processing images: 100%|██████████| 29/29 [00:40<00:00,  1.40s/it]"
     ]
    },
    {
     "name": "stdout",
     "output_type": "stream",
     "text": [
      "UFO 포맷 JSON 파일이 '/data/ephemeral/home/level2-cv-datacentric-cv-12/code/data/vietnamese2_receipt/ufo/train.json'에 저장되었습니다.\n"
     ]
    },
    {
     "name": "stderr",
     "output_type": "stream",
     "text": [
      "\n"
     ]
    }
   ],
   "source": [
    "import easyocr\n",
    "import cv2\n",
    "import numpy as np\n",
    "import os\n",
    "import json\n",
    "from tqdm import tqdm\n",
    "\n",
    "# EasyOCR 리더 초기화 (한국어 'ko' 사용, GPU 사용 가능 시 gpu=True로 설정)\n",
    "reader = easyocr.Reader(['ko'], gpu=True)\n",
    "\n",
    "def process_images_to_ufo_format(images_dir, output_json_path):\n",
    "    \"\"\"\n",
    "    이미지 폴더 내 모든 이미지에 대해 텍스트 박스를 UFO 포맷으로 JSON에 저장합니다.\n",
    "    \n",
    "    Args:\n",
    "        images_dir (str): 이미지가 저장된 폴더 경로.\n",
    "        output_json_path (str): 결과 JSON 파일 저장 경로.\n",
    "    \"\"\"\n",
    "    ufo_data = {\"images\": {}}\n",
    "\n",
    "    # 이미지 폴더 내 모든 이미지 처리\n",
    "    for filename in tqdm(os.listdir(images_dir), desc=\"Processing images\"):\n",
    "        if filename.endswith(('.jpg', '.jpeg', '.png')):\n",
    "            image_path = os.path.join(images_dir, filename)\n",
    "            image = cv2.imread(image_path)\n",
    "            \n",
    "            if image is None:\n",
    "                print(f\"이미지를 불러올 수 없습니다: {image_path}\")\n",
    "                continue\n",
    "\n",
    "            # EasyOCR로 텍스트 검출\n",
    "            results = reader.readtext(image)\n",
    "            \n",
    "            # 박스가 없으면 건너뛰기\n",
    "            if not results:\n",
    "                print(f\"No text boxes found in image: {filename}\")\n",
    "                continue\n",
    "\n",
    "            # 이미지 정보 초기화\n",
    "            image_info = {\n",
    "                \"paragraphs\": {},  # 빈 paragraphs 필드 추가\n",
    "                \"words\": {}\n",
    "            }\n",
    "\n",
    "            for idx, (bbox, _, _) in enumerate(results):\n",
    "                # UFO 포맷의 vertices 좌표를 맞추기 위한 변환\n",
    "                vertices = [[float(coord[0]), float(coord[1])] for coord in bbox]\n",
    "                \n",
    "                # 결과를 이미지 내 인덱스별로 저장 (0001, 0002, ...)\n",
    "                word_id = f\"{idx:04d}\"\n",
    "                image_info[\"words\"][word_id] = {\n",
    "                    \"transcription\": \"\",  # 빈 transcription 필드 추가\n",
    "                    \"points\": vertices\n",
    "                }\n",
    "\n",
    "            # 이미지별 텍스트 박스 정보 저장\n",
    "            ufo_data[\"images\"][filename] = image_info\n",
    "\n",
    "    # JSON 파일로 저장\n",
    "    with open(output_json_path, 'w', encoding='utf-8') as f:\n",
    "        json.dump(ufo_data, f, ensure_ascii=False, indent=4)\n",
    "\n",
    "    print(f\"UFO 포맷 JSON 파일이 '{output_json_path}'에 저장되었습니다.\")\n",
    "\n",
    "# 사용 예제\n",
    "images_dir = '/data/ephemeral/home/level2-cv-datacentric-cv-12/code/data/vietnamese2_receipt/img/train'  # 이미지 폴더 경로\n",
    "output_json_path = '/data/ephemeral/home/level2-cv-datacentric-cv-12/code/data/vietnamese2_receipt/ufo/train.json'  # 결과 JSON 파일 경로\n",
    "\n",
    "# 이미지들을 UFO 포맷 JSON 파일로 저장\n",
    "process_images_to_ufo_format(images_dir, output_json_path)"
   ]
  },
  {
   "cell_type": "code",
   "execution_count": null,
   "metadata": {},
   "outputs": [],
   "source": []
  }
 ],
 "metadata": {
  "kernelspec": {
   "display_name": "base",
   "language": "python",
   "name": "python3"
  },
  "language_info": {
   "codemirror_mode": {
    "name": "ipython",
    "version": 3
   },
   "file_extension": ".py",
   "mimetype": "text/x-python",
   "name": "python",
   "nbconvert_exporter": "python",
   "pygments_lexer": "ipython3",
   "version": "3.10.13"
  }
 },
 "nbformat": 4,
 "nbformat_minor": 2
}
